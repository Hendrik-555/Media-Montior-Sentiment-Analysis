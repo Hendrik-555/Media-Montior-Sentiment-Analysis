{
 "cells": [
  {
   "cell_type": "markdown",
   "metadata": {},
   "source": [
    "# Lambda 1 - Getting Tweets which contain #StandWithUkraine"
   ]
  },
  {
   "cell_type": "code",
   "execution_count": null,
   "metadata": {},
   "outputs": [],
   "source": [
    "#make sure to install the Lambda layer beforehand\n",
    "import pandas as pd\n",
    "import tweepy\n",
    "import boto3\n",
    "from io import StringIO\n",
    "import time\n",
    "\n",
    "\n",
    "\n",
    "def lambda_handler(event, context):\n",
    "    \n",
    "    # call s3 bucket\n",
    "    s3 = boto3.resource('s3')\n",
    "    \n",
    "    #api keys\n",
    "    consumer_key = \"your_consumer_key\"\n",
    "    consumer_secret= \"your_consumer_secret\"\n",
    "    access_token= \"your_access_token\"\n",
    "    access_token_secret= \"your_access_token_secret\"\n",
    "    \n",
    "    #api auth\n",
    "    auth = tweepy.OAuthHandler(consumer_key, consumer_secret)\n",
    "    api = tweepy.API(auth)\n",
    "    auth.set_access_token(access_token, access_token_secret)\n",
    "    \n",
    "    #twitter api parameters\n",
    "    number_of_tweets = 100\n",
    "    tweets_ukraine = []\n",
    "    columns = ['Time Created', 'Number_of_Likes', 'Number_of_Retweets', 'Tweet']\n",
    "    search_words = '#StandWithUkraine'\n",
    "    lang = 'en'\n",
    "    \n",
    "    #getting the data\n",
    "    for tweet in tweepy.Cursor(api.search_tweets, q=search_words, lang = lang, \n",
    "                        tweet_mode='extended').items(number_of_tweets):\n",
    "                            tweets_ukraine.append([tweet.created_at, tweet.favorite_count, tweet.retweet_count, tweet.full_text])\n",
    "    #create a dataframe\n",
    "    df = pd.DataFrame(tweets_ukraine, columns=columns)\n",
    "    \n",
    "    #define filename\n",
    "    csv_time = time.strftime(\"%Y%m%d%H%M\")\n",
    "    csv_name = \"twitterapi\" + csv_time + '.csv'\n",
    "\n",
    "    # name of existing bucket\n",
    "    bucket = 'your_bucket_name' \n",
    "    \n",
    "    #save it into a buffer\n",
    "    csv_buffer = StringIO()\n",
    "    df.to_csv(csv_buffer)\n",
    "    s3.Object(bucket, csv_name).put(Body=csv_buffer.getvalue())\n"
   ]
  }
 ],
 "metadata": {
  "kernelspec": {
   "display_name": "Python 3",
   "language": "python",
   "name": "python3"
  },
  "language_info": {
   "codemirror_mode": {
    "name": "ipython",
    "version": 3
   },
   "file_extension": ".py",
   "mimetype": "text/x-python",
   "name": "python",
   "nbconvert_exporter": "python",
   "pygments_lexer": "ipython3",
   "version": "3.8.5"
  }
 },
 "nbformat": 4,
 "nbformat_minor": 4
}
