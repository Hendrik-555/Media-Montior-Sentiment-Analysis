{
 "cells": [
  {
   "cell_type": "markdown",
   "id": "d0458151",
   "metadata": {
    "toc": true
   },
   "source": [
    "<h1>Table of Contents<span class=\"tocSkip\"></span></h1>\n",
    "<div class=\"toc\"><ul class=\"toc-item\"><li><span><a href=\"#Daily-Export-of-Top-100-Subreddit-Posts\" data-toc-modified-id=\"Daily-Export-of-Top-100-Subreddit-Posts-1\"><span class=\"toc-item-num\">1&nbsp;&nbsp;</span>Daily Export of Top 100 Subreddit Posts</a></span></li></ul></div>"
   ]
  },
  {
   "cell_type": "markdown",
   "id": "86d84954",
   "metadata": {},
   "source": [
    "### Daily Export of Top 100 Subreddit Posts "
   ]
  },
  {
   "cell_type": "code",
   "execution_count": 14,
   "id": "b744ebdf",
   "metadata": {},
   "outputs": [],
   "source": [
    "import json\n",
    "import praw\n",
    "import pandas as pd\n",
    "#import pmaw\n",
    "#from pmaw import PushshiftAPI\n",
    "import datetime "
   ]
  },
  {
   "cell_type": "code",
   "execution_count": 9,
   "id": "4332fb1e",
   "metadata": {},
   "outputs": [
    {
     "name": "stdout",
     "output_type": "stream",
     "text": [
      "True\n"
     ]
    }
   ],
   "source": [
    "reddit = praw.Reddit(\n",
    "client_id = \"############",
    "client_secret = \"############",
    "user_agent = \"############")\n",
    "\n",
    "print(reddit.read_only)"
   ]
  },
  {
   "cell_type": "code",
   "execution_count": 23,
   "id": "bd93f6ac",
   "metadata": {},
   "outputs": [
    {
     "name": "stdout",
     "output_type": "stream",
     "text": [
      "                                                 title  score      id  \\\n",
      "0    Ukrainians have decided to flood parts around ...  50920  t7rf3v   \n",
      "1    Ukrainian army is searching for a column of Ru...  46024  t2lv7x   \n",
      "2    Swedish Member of Parliament nominates Zelensk...  45794  t3r06r   \n",
      "3    Putin ‘sacks eight generals’ in anger at slow ...  42861  tb2f86   \n",
      "4    How Ukrainians welcome Russian troops into the...  38572  t41tts   \n",
      "..                                                 ...    ...     ...   \n",
      "976  \"\"Come on, rape Ukrainian women\": the Russian ...   1166  u49670   \n",
      "977  You probably aren't surprised by Noam Chomsky'...   1166  u57g5u   \n",
      "978              'hello separatists! Love, /r/ukraine'   1163  s8qg9u   \n",
      "979  Ukraine offers the Kremlin a chance to withdra...   1150  u4c71h   \n",
      "980  Combined footage of explosion over Kyiv’s Darn...   1154  t0u7e1   \n",
      "\n",
      "             subreddit                                                url  \\\n",
      "0    UkrainianConflict              https://www.reddit.com/gallery/t7rf3v   \n",
      "1    UkrainianConflict  https://twitter.com/EuromaidanPress/status/149...   \n",
      "2    UkrainianConflict  https://www.aftonbladet.se/nyheter/a/66g6vQ/ad...   \n",
      "3    UkrainianConflict  https://metro.co.uk/2022/03/10/ukraine-invasio...   \n",
      "4    UkrainianConflict                    https://v.redd.it/djs9eu1czpk81   \n",
      "..                 ...                                                ...   \n",
      "976  UkrainianConflict  https://www.radiosvoboda.org/a/skhemy-zgvaltuv...   \n",
      "977  UkrainianConflict  https://threadreaderapp.com/thread/15153257474...   \n",
      "978  UkrainianConflict                   https://i.imgur.com/MkPv1MF.jpeg   \n",
      "979  UkrainianConflict        https://www.dialog.ua/war/250046_1650040200   \n",
      "980  UkrainianConflict                    https://v.redd.it/ktseiy5kjwj81   \n",
      "\n",
      "     num_comments     timestamp  \n",
      "0            1435  1.646543e+09  \n",
      "1            1785  1.645960e+09  \n",
      "2             947  1.646085e+09  \n",
      "3            2844  1.646930e+09  \n",
      "4            1007  1.646118e+09  \n",
      "..            ...           ...  \n",
      "976           154  1.650033e+09  \n",
      "977           453  1.650144e+09  \n",
      "978            49  1.642706e+09  \n",
      "979           107  1.650041e+09  \n",
      "980            53  1.645761e+09  \n",
      "\n",
      "[981 rows x 7 columns]\n"
     ]
    }
   ],
   "source": [
    "posts = []\n",
    "uc_subreddit = reddit.subreddit(\"UkrainianConflict\")\n",
    "for post in uc_subreddit.top(time_filter=\"all\", limit = None ): #use \"limit=None\"\n",
    "    posts.append([post.title, post.score, post.id, post.subreddit, post.url, post.num_comments, post.created])\n",
    "posts = pd.DataFrame(posts, columns=[\"title\", \"score\", \"id\", \"subreddit\", \"url\", \"num_comments\", \"timestamp\"])\n",
    "print(posts)"
   ]
  },
  {
   "cell_type": "code",
   "execution_count": 24,
   "id": "427be804",
   "metadata": {},
   "outputs": [
    {
     "data": {
      "text/html": [
       "<div>\n",
       "<style scoped>\n",
       "    .dataframe tbody tr th:only-of-type {\n",
       "        vertical-align: middle;\n",
       "    }\n",
       "\n",
       "    .dataframe tbody tr th {\n",
       "        vertical-align: top;\n",
       "    }\n",
       "\n",
       "    .dataframe thead th {\n",
       "        text-align: right;\n",
       "    }\n",
       "</style>\n",
       "<table border=\"1\" class=\"dataframe\">\n",
       "  <thead>\n",
       "    <tr style=\"text-align: right;\">\n",
       "      <th></th>\n",
       "      <th>title</th>\n",
       "      <th>score</th>\n",
       "      <th>id</th>\n",
       "      <th>subreddit</th>\n",
       "      <th>url</th>\n",
       "      <th>num_comments</th>\n",
       "      <th>timestamp</th>\n",
       "    </tr>\n",
       "  </thead>\n",
       "  <tbody>\n",
       "    <tr>\n",
       "      <th>0</th>\n",
       "      <td>Ukrainians have decided to flood parts around ...</td>\n",
       "      <td>50920</td>\n",
       "      <td>t7rf3v</td>\n",
       "      <td>UkrainianConflict</td>\n",
       "      <td>https://www.reddit.com/gallery/t7rf3v</td>\n",
       "      <td>1435</td>\n",
       "      <td>1.646543e+09</td>\n",
       "    </tr>\n",
       "    <tr>\n",
       "      <th>1</th>\n",
       "      <td>Ukrainian army is searching for a column of Ru...</td>\n",
       "      <td>46024</td>\n",
       "      <td>t2lv7x</td>\n",
       "      <td>UkrainianConflict</td>\n",
       "      <td>https://twitter.com/EuromaidanPress/status/149...</td>\n",
       "      <td>1785</td>\n",
       "      <td>1.645960e+09</td>\n",
       "    </tr>\n",
       "    <tr>\n",
       "      <th>2</th>\n",
       "      <td>Swedish Member of Parliament nominates Zelensk...</td>\n",
       "      <td>45794</td>\n",
       "      <td>t3r06r</td>\n",
       "      <td>UkrainianConflict</td>\n",
       "      <td>https://www.aftonbladet.se/nyheter/a/66g6vQ/ad...</td>\n",
       "      <td>947</td>\n",
       "      <td>1.646085e+09</td>\n",
       "    </tr>\n",
       "    <tr>\n",
       "      <th>3</th>\n",
       "      <td>Putin ‘sacks eight generals’ in anger at slow ...</td>\n",
       "      <td>42861</td>\n",
       "      <td>tb2f86</td>\n",
       "      <td>UkrainianConflict</td>\n",
       "      <td>https://metro.co.uk/2022/03/10/ukraine-invasio...</td>\n",
       "      <td>2844</td>\n",
       "      <td>1.646930e+09</td>\n",
       "    </tr>\n",
       "    <tr>\n",
       "      <th>4</th>\n",
       "      <td>How Ukrainians welcome Russian troops into the...</td>\n",
       "      <td>38572</td>\n",
       "      <td>t41tts</td>\n",
       "      <td>UkrainianConflict</td>\n",
       "      <td>https://v.redd.it/djs9eu1czpk81</td>\n",
       "      <td>1007</td>\n",
       "      <td>1.646118e+09</td>\n",
       "    </tr>\n",
       "  </tbody>\n",
       "</table>\n",
       "</div>"
      ],
      "text/plain": [
       "                                               title  score      id  \\\n",
       "0  Ukrainians have decided to flood parts around ...  50920  t7rf3v   \n",
       "1  Ukrainian army is searching for a column of Ru...  46024  t2lv7x   \n",
       "2  Swedish Member of Parliament nominates Zelensk...  45794  t3r06r   \n",
       "3  Putin ‘sacks eight generals’ in anger at slow ...  42861  tb2f86   \n",
       "4  How Ukrainians welcome Russian troops into the...  38572  t41tts   \n",
       "\n",
       "           subreddit                                                url  \\\n",
       "0  UkrainianConflict              https://www.reddit.com/gallery/t7rf3v   \n",
       "1  UkrainianConflict  https://twitter.com/EuromaidanPress/status/149...   \n",
       "2  UkrainianConflict  https://www.aftonbladet.se/nyheter/a/66g6vQ/ad...   \n",
       "3  UkrainianConflict  https://metro.co.uk/2022/03/10/ukraine-invasio...   \n",
       "4  UkrainianConflict                    https://v.redd.it/djs9eu1czpk81   \n",
       "\n",
       "   num_comments     timestamp  \n",
       "0          1435  1.646543e+09  \n",
       "1          1785  1.645960e+09  \n",
       "2           947  1.646085e+09  \n",
       "3          2844  1.646930e+09  \n",
       "4          1007  1.646118e+09  "
      ]
     },
     "execution_count": 24,
     "metadata": {},
     "output_type": "execute_result"
    }
   ],
   "source": [
    "df = pd.DataFrame(posts)\n",
    "df.head()"
   ]
  },
  {
   "cell_type": "code",
   "execution_count": 25,
   "id": "f8965d10",
   "metadata": {},
   "outputs": [
    {
     "data": {
      "text/html": [
       "<div>\n",
       "<style scoped>\n",
       "    .dataframe tbody tr th:only-of-type {\n",
       "        vertical-align: middle;\n",
       "    }\n",
       "\n",
       "    .dataframe tbody tr th {\n",
       "        vertical-align: top;\n",
       "    }\n",
       "\n",
       "    .dataframe thead th {\n",
       "        text-align: right;\n",
       "    }\n",
       "</style>\n",
       "<table border=\"1\" class=\"dataframe\">\n",
       "  <thead>\n",
       "    <tr style=\"text-align: right;\">\n",
       "      <th></th>\n",
       "      <th>title</th>\n",
       "      <th>score</th>\n",
       "      <th>id</th>\n",
       "      <th>subreddit</th>\n",
       "      <th>url</th>\n",
       "      <th>num_comments</th>\n",
       "      <th>timestamp</th>\n",
       "    </tr>\n",
       "  </thead>\n",
       "  <tbody>\n",
       "    <tr>\n",
       "      <th>0</th>\n",
       "      <td>Ukrainians have decided to flood parts around ...</td>\n",
       "      <td>50920</td>\n",
       "      <td>t7rf3v</td>\n",
       "      <td>UkrainianConflict</td>\n",
       "      <td>https://www.reddit.com/gallery/t7rf3v</td>\n",
       "      <td>1435</td>\n",
       "      <td>2022-03-06 04:56:15</td>\n",
       "    </tr>\n",
       "    <tr>\n",
       "      <th>1</th>\n",
       "      <td>Ukrainian army is searching for a column of Ru...</td>\n",
       "      <td>46024</td>\n",
       "      <td>t2lv7x</td>\n",
       "      <td>UkrainianConflict</td>\n",
       "      <td>https://twitter.com/EuromaidanPress/status/149...</td>\n",
       "      <td>1785</td>\n",
       "      <td>2022-02-27 10:58:20</td>\n",
       "    </tr>\n",
       "    <tr>\n",
       "      <th>2</th>\n",
       "      <td>Swedish Member of Parliament nominates Zelensk...</td>\n",
       "      <td>45794</td>\n",
       "      <td>t3r06r</td>\n",
       "      <td>UkrainianConflict</td>\n",
       "      <td>https://www.aftonbladet.se/nyheter/a/66g6vQ/ad...</td>\n",
       "      <td>947</td>\n",
       "      <td>2022-02-28 21:52:55</td>\n",
       "    </tr>\n",
       "    <tr>\n",
       "      <th>3</th>\n",
       "      <td>Putin ‘sacks eight generals’ in anger at slow ...</td>\n",
       "      <td>42861</td>\n",
       "      <td>tb2f86</td>\n",
       "      <td>UkrainianConflict</td>\n",
       "      <td>https://metro.co.uk/2022/03/10/ukraine-invasio...</td>\n",
       "      <td>2844</td>\n",
       "      <td>2022-03-10 16:25:34</td>\n",
       "    </tr>\n",
       "    <tr>\n",
       "      <th>4</th>\n",
       "      <td>How Ukrainians welcome Russian troops into the...</td>\n",
       "      <td>38572</td>\n",
       "      <td>t41tts</td>\n",
       "      <td>UkrainianConflict</td>\n",
       "      <td>https://v.redd.it/djs9eu1czpk81</td>\n",
       "      <td>1007</td>\n",
       "      <td>2022-03-01 06:54:28</td>\n",
       "    </tr>\n",
       "  </tbody>\n",
       "</table>\n",
       "</div>"
      ],
      "text/plain": [
       "                                               title  score      id  \\\n",
       "0  Ukrainians have decided to flood parts around ...  50920  t7rf3v   \n",
       "1  Ukrainian army is searching for a column of Ru...  46024  t2lv7x   \n",
       "2  Swedish Member of Parliament nominates Zelensk...  45794  t3r06r   \n",
       "3  Putin ‘sacks eight generals’ in anger at slow ...  42861  tb2f86   \n",
       "4  How Ukrainians welcome Russian troops into the...  38572  t41tts   \n",
       "\n",
       "           subreddit                                                url  \\\n",
       "0  UkrainianConflict              https://www.reddit.com/gallery/t7rf3v   \n",
       "1  UkrainianConflict  https://twitter.com/EuromaidanPress/status/149...   \n",
       "2  UkrainianConflict  https://www.aftonbladet.se/nyheter/a/66g6vQ/ad...   \n",
       "3  UkrainianConflict  https://metro.co.uk/2022/03/10/ukraine-invasio...   \n",
       "4  UkrainianConflict                    https://v.redd.it/djs9eu1czpk81   \n",
       "\n",
       "   num_comments           timestamp  \n",
       "0          1435 2022-03-06 04:56:15  \n",
       "1          1785 2022-02-27 10:58:20  \n",
       "2           947 2022-02-28 21:52:55  \n",
       "3          2844 2022-03-10 16:25:34  \n",
       "4          1007 2022-03-01 06:54:28  "
      ]
     },
     "execution_count": 25,
     "metadata": {},
     "output_type": "execute_result"
    }
   ],
   "source": [
    "df['timestamp'] = pd.to_datetime(df['timestamp'], unit='s')\n",
    "df.head()"
   ]
  },
  {
   "cell_type": "code",
   "execution_count": 18,
   "id": "0b3fc2e7",
   "metadata": {},
   "outputs": [],
   "source": [
    "df.to_json(\"Reddit.json\", default_handler=str)\n"
   ]
  },
  {
   "cell_type": "code",
   "execution_count": 26,
   "id": "5dea4224",
   "metadata": {},
   "outputs": [],
   "source": [
    "df.to_csv(\"Redditv1.csv\", index = False)"
   ]
  },
  {
   "cell_type": "code",
   "execution_count": null,
   "id": "2efebf7d",
   "metadata": {},
   "outputs": [],
   "source": []
  }
 ],
 "metadata": {
  "kernelspec": {
   "display_name": "nosql_lab",
   "language": "python",
   "name": "nosql_lab"
  },
  "language_info": {
   "codemirror_mode": {
    "name": "ipython",
    "version": 3
   },
   "file_extension": ".py",
   "mimetype": "text/x-python",
   "name": "python",
   "nbconvert_exporter": "python",
   "pygments_lexer": "ipython3",
   "version": "3.9.1"
  },
  "toc": {
   "base_numbering": 1,
   "nav_menu": {},
   "number_sections": true,
   "sideBar": true,
   "skip_h1_title": false,
   "title_cell": "Table of Contents",
   "title_sidebar": "Contents",
   "toc_cell": true,
   "toc_position": {},
   "toc_section_display": true,
   "toc_window_display": false
  }
 },
 "nbformat": 4,
 "nbformat_minor": 5
}
