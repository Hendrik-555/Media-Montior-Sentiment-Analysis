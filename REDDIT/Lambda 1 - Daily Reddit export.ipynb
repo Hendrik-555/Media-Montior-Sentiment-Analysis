{
 "cells": [
  {
   "cell_type": "markdown",
   "id": "c53395d1",
   "metadata": {},
   "source": [
    "## Daily Reddit API Export\n",
    "\n",
    "### + pandas custom layer"
   ]
  },
  {
   "cell_type": "code",
   "execution_count": null,
   "id": "9898bee9",
   "metadata": {},
   "outputs": [],
   "source": [
    "import json\n",
    "import praw\n",
    "import pandas as pd\n",
    "import boto3\n",
    "import time\n",
    "\n",
    "\n",
    "s3 = boto3.client(\"s3\")\n",
    "\n",
    "def lambda_handler(event,context):\n",
    "    \n",
    "# specifying S3 bucket as import destination \n",
    "\n",
    "    bucket = \"redditapibucket2\"\n",
    "    \n",
    "# sending request to Reddit using acquired API keys\n",
    "\n",
    "    reddit = praw.Reddit(\n",
    "    client_id = \"Kxke58vtbFOzeTO95IfkLQ\",\n",
    "    client_secret = \"SCq6Gw9eoK5G8q4ylhqj46C3OT95sQ\",\n",
    "    user_agent = \"mira\")\n",
    "    \n",
    "# creating an empty list\n",
    "\n",
    "    posts = []\n",
    "    \n",
    "# specifying subreddit information \n",
    "\n",
    "    uc_subreddit = reddit.subreddit(\"UkrainianConflict\")\n",
    "    \n",
    "# specifying parameters for daily data export \n",
    "\n",
    "    for post in uc_subreddit.top(time_filter=\"day\", limit = 150 ): \n",
    "        \n",
    "# appending empty list with desired data\n",
    "\n",
    "        posts.append([post.title, post.score, post.id, post.subreddit, post.url, post.num_comments, post.created])\n",
    "    \n",
    "# transforming list to pandas DataFrame\n",
    "\n",
    "    posts = pd.DataFrame(posts, columns=[\"title\", \"score\", \"id\", \"subreddit\", \"url\", \"num_comments\", \"timestamp\"])\n",
    "\n",
    "# saving data as JSON file \n",
    "\n",
    "    data = posts.to_json(orient = \"index\" , default_handler=str)\n",
    "\n",
    "# specifyin gnaming convention to account for chaning naming convention each day\n",
    "\n",
    "    timestr = time.strftime(\"%Y%m%d\")\n",
    "    \n",
    "    filename= \"redditapi\" + timestr + \".json\"\n",
    "    \n",
    "    uploadByteStream = bytes(json.dumps(data).encode(\"UTF-8\"))\n",
    "\n",
    "# saving JSON to S3 bucket\n",
    "\n",
    "    s3.put_object(Bucket = bucket, Key = filename , Body = data)\n",
    "\n",
    "# printing results of the operation \n",
    "\n",
    "    print(\"put complete\")\n"
   ]
  }
 ],
 "metadata": {
  "kernelspec": {
   "display_name": "nosql_lab",
   "language": "python",
   "name": "nosql_lab"
  },
  "language_info": {
   "codemirror_mode": {
    "name": "ipython",
    "version": 3
   },
   "file_extension": ".py",
   "mimetype": "text/x-python",
   "name": "python",
   "nbconvert_exporter": "python",
   "pygments_lexer": "ipython3",
   "version": "3.9.1"
  }
 },
 "nbformat": 4,
 "nbformat_minor": 5
}
