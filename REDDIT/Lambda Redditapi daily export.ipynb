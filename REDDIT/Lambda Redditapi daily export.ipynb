{
 "cells": [
  {
   "cell_type": "markdown",
   "id": "c53395d1",
   "metadata": {},
   "source": [
    "## Daily Export Final Lambda "
   ]
  },
  {
   "cell_type": "code",
   "execution_count": null,
   "id": "9898bee9",
   "metadata": {},
   "outputs": [],
   "source": [
    "import json\n",
    "import praw\n",
    "import pandas as pd\n",
    "import boto3\n",
    "import time\n",
    "\n",
    "\n",
    "s3 = boto3.client(\"s3\")\n",
    "\n",
    "def lambda_handler(event,context):\n",
    "    bucket = \"redditapibucket2\"\n",
    "\n",
    "    reddit = praw.Reddit(\n",
    "    client_id = \"Kxke58vtbFOzeTO95IfkLQ\",\n",
    "    client_secret = \"SCq6Gw9eoK5G8q4ylhqj46C3OT95sQ\",\n",
    "    user_agent = \"mira\")\n",
    "\n",
    "\n",
    "    posts = []\n",
    "    uc_subreddit = reddit.subreddit(\"UkrainianConflict\")\n",
    "    for post in uc_subreddit.top(time_filter=\"day\", limit = 150 ): #use \"limit=None\"\n",
    "        posts.append([post.title, post.score, post.id, post.subreddit, post.url, post.num_comments, post.created])\n",
    "    posts = pd.DataFrame(posts, columns=[\"title\", \"score\", \"id\", \"subreddit\", \"url\", \"num_comments\", \"timestamp\"])\n",
    "\n",
    "    data = posts.to_json(orient = \"index\" , default_handler=str)\n",
    "    \n",
    "    timestr = time.strftime(\"%Y%m%d\")\n",
    "    \n",
    "    filename= \"redditapi\" + timestr + \".json\"\n",
    "    \n",
    "    uploadByteStream = bytes(json.dumps(data).encode(\"UTF-8\"))\n",
    "\n",
    "    s3.put_object(Bucket = bucket, Key = filename , Body = data)\n",
    "    \n",
    "    print(\"put complete\")\n"
   ]
  }
 ],
 "metadata": {
  "kernelspec": {
   "display_name": "nosql_lab",
   "language": "python",
   "name": "nosql_lab"
  },
  "language_info": {
   "codemirror_mode": {
    "name": "ipython",
    "version": 3
   },
   "file_extension": ".py",
   "mimetype": "text/x-python",
   "name": "python",
   "nbconvert_exporter": "python",
   "pygments_lexer": "ipython3",
   "version": "3.9.1"
  }
 },
 "nbformat": 4,
 "nbformat_minor": 5
}
