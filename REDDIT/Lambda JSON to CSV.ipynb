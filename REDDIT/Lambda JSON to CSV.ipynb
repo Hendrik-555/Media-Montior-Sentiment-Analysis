{
 "cells": [
  {
   "cell_type": "markdown",
   "id": "7af69fe5",
   "metadata": {},
   "source": [
    "## JSON -> CSV LAMBDA "
   ]
  },
  {
   "cell_type": "code",
   "execution_count": null,
   "id": "1c9da794",
   "metadata": {},
   "outputs": [],
   "source": [
    "import json\n",
    "import boto3\n",
    "import DateTime\n",
    "import pandas as pd\n",
    "import time\n",
    "from io import StringIO\n",
    "\n",
    "s3 = boto3.client(\"s3\")\n",
    "\n",
    "\n",
    "def lambda_handler(event, context):\n",
    "    \n",
    "    bucket = \"redditapibucket2\"\n",
    "    timestr = time.strftime(\"%Y%m%d\")\n",
    "    filename = \"redditapi\" + timestr + \".json\"\n",
    "    \n",
    "    obj = s3.get_object(Bucket = bucket, Key = filename)\n",
    "    \n",
    "    content = obj[\"Body\"]\n",
    "    \n",
    "    df = pd.read_json(content)\n",
    "    \n",
    "    df = df.T\n",
    "    \n",
    "    df = df[[\"id\",\"title\", \"num_comments\", \"score\", \"timestamp\", \"url\", \"subreddit\"]]\n",
    "    \n",
    "    df['timestamp'] = pd.to_datetime(df['timestamp'], unit='s')\n",
    "    print(df.head())\n",
    "\n",
    "    \n",
    "    csvs3 = boto3.resource('s3')\n",
    "    \n",
    "    #export to s3\n",
    "    csvbucket = \"redditbucketcsv\" \n",
    "    csvfilename = \"redditapi\" + timestr + \".csv\"\n",
    "    \n",
    "    #save it into a buffer\n",
    "    csv_buffer = StringIO()\n",
    "    df.to_csv(csv_buffer)\n",
    "    \n",
    "    csvs3.Object(csvbucket,csvfilename).put(Body=csv_buffer.getvalue())\n",
    "    \n",
    "    print(\"put complete\")\n",
    "    "
   ]
  },
  {
   "cell_type": "code",
   "execution_count": null,
   "id": "4e5b6a44",
   "metadata": {},
   "outputs": [],
   "source": [
    "## + pandas layer "
   ]
  }
 ],
 "metadata": {
  "kernelspec": {
   "display_name": "nosql_lab",
   "language": "python",
   "name": "nosql_lab"
  },
  "language_info": {
   "codemirror_mode": {
    "name": "ipython",
    "version": 3
   },
   "file_extension": ".py",
   "mimetype": "text/x-python",
   "name": "python",
   "nbconvert_exporter": "python",
   "pygments_lexer": "ipython3",
   "version": "3.9.1"
  }
 },
 "nbformat": 4,
 "nbformat_minor": 5
}
