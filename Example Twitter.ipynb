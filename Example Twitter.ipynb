{
 "cells": [
  {
   "cell_type": "code",
   "execution_count": 146,
   "id": "601420bf",
   "metadata": {},
   "outputs": [],
   "source": [
    "#!pip install pathlib"
   ]
  },
  {
   "cell_type": "code",
   "execution_count": 147,
   "id": "d2a4916c",
   "metadata": {},
   "outputs": [],
   "source": [
    "#!pip install ruamel-yaml"
   ]
  },
  {
   "cell_type": "code",
   "execution_count": 148,
   "id": "34cce9ff",
   "metadata": {
    "scrolled": true
   },
   "outputs": [],
   "source": [
    "#!pip install tweepy"
   ]
  },
  {
   "cell_type": "code",
   "execution_count": 152,
   "id": "28414fd7",
   "metadata": {},
   "outputs": [],
   "source": [
    "# - choose 5 capitals, and how many 100 km around it\n",
    "# - 3 hashtags\n",
    "# - choose a time frame (2weeks?)\n",
    "# - limitations tweepy"
   ]
  },
  {
   "cell_type": "code",
   "execution_count": 62,
   "id": "d8f82eb5",
   "metadata": {},
   "outputs": [],
   "source": [
    "import tweepy"
   ]
  },
  {
   "cell_type": "code",
   "execution_count": 63,
   "id": "a53de794",
   "metadata": {},
   "outputs": [],
   "source": [
    "import pandas as pd"
   ]
  },
  {
   "cell_type": "code",
   "execution_count": 64,
   "id": "4ef32f60",
   "metadata": {},
   "outputs": [],
   "source": [
    "%run ./keys.ipynb"
   ]
  },
  {
   "cell_type": "code",
   "execution_count": 65,
   "id": "615e18dd",
   "metadata": {},
   "outputs": [],
   "source": [
    "auth = tweepy.OAuthHandler(consumer_key, consumer_secret)"
   ]
  },
  {
   "cell_type": "code",
   "execution_count": 66,
   "id": "eb54c7b1",
   "metadata": {},
   "outputs": [],
   "source": [
    "api = tweepy.API(auth)\n"
   ]
  },
  {
   "cell_type": "code",
   "execution_count": 67,
   "id": "e7fc4fc0",
   "metadata": {},
   "outputs": [],
   "source": [
    "auth.set_access_token(access_token, access_token_secret)"
   ]
  },
  {
   "cell_type": "markdown",
   "id": "62ed944e",
   "metadata": {},
   "source": [
    "## Get Tweet from @BarackObama\n"
   ]
  },
  {
   "cell_type": "code",
   "execution_count": 103,
   "id": "9142638f",
   "metadata": {},
   "outputs": [],
   "source": [
    "number_of_tweets = 10\n",
    "tweets =[]\n",
    "likes= []\n",
    "time=[]"
   ]
  },
  {
   "cell_type": "code",
   "execution_count": 104,
   "id": "33c7b8a3",
   "metadata": {},
   "outputs": [
    {
     "name": "stderr",
     "output_type": "stream",
     "text": [
      "Unexpected parameter: id\n"
     ]
    }
   ],
   "source": [
    "for i in tweepy.Cursor(api.user_timeline, id=\"BarackObama\", tweet_mode=\"extended\").items(number_of_tweets):\n",
    "    tweets.append(i.full_text)\n",
    "    likes.append(i.favorite_count)\n",
    "    time.append(i.created_at)\n",
    "    "
   ]
  },
  {
   "cell_type": "code",
   "execution_count": 105,
   "id": "ec2440c0",
   "metadata": {},
   "outputs": [
    {
     "data": {
      "text/plain": [
       "[\"Today @POTUS announced that the U.S. will be welcoming 100,000 refugees fleeing the war in Ukraine.\\n\\xa0\\nThis is the right thing to do.\\n\\xa0\\nIf you're looking for ways to help, join @WelcomeUS and support the refugees who will be arriving here soon: https://t.co/tXJCE3tiCE\",\n",
       " 'As the first woman to serve as America’s top diplomat, Madeleine Albright was a champion for democratic values. Michelle and I send our thoughts to the Albright family and everyone who knew and served with a truly remarkable woman. https://t.co/8jj3GYZXbB',\n",
       " \"The other day, I called up DonnaMarie, Steve, and Amy to hear how the Affordable Care Act changed their lives and thank them for the work they’re doing with @ProtectOurCare to protect it.\\n\\nI hope you'll watch and share your own story: https://t.co/DhAQWzxCYq\",\n",
       " 'RT @POTUS: Twelve years ago, I proudly stood beside President @BarackObama as he signed into law the most consequential expansion of health…',\n",
       " \".@POTUS’s American Rescue Plan helped strengthen the Affordable Care Act by lowering costs and encouraging a record 14.5 million people to sign up for coverage in 2022. \\n\\nWe'll keep working to improve the ACA until every American has access to quality, affordable health coverage.\",\n",
       " 'During the pandemic, the Affordable Care Act helped make vaccines and COVID-19 tests available for free, covered emergency hospitalizations, and prevented insurance companies from denying anyone coverage based on a pre-existing condition.',\n",
       " '12 years ago today, I signed the Affordable Care Act into law. I’ve always believed that health care shouldn’t be a privilege for just a fortunate few, but a right for every American. \\n\\nToday, more than 30 million Americans have health coverage thanks to the Affordable Care Act. https://t.co/DmjgC00LpP',\n",
       " \"It’s been a great year for college basketball, and now #MarchMadness is officially back. I’m excited for some of the young men in our @MBK_Alliance to join the action in New Orleans. Here's a look at my picks: https://t.co/LV9do4BSWB\",\n",
       " 'And third, a reminder that in the face of brutal repression, there are ordinary Russians that are showing tremendous courage in standing up to a senseless, destructive war. https://t.co/xh1Z10vo6V',\n",
       " 'Second, a useful primer on why no-fly zones don’t offer a simple answer to stopping the bloodshed. https://t.co/q7VnpgLw9X']"
      ]
     },
     "execution_count": 105,
     "metadata": {},
     "output_type": "execute_result"
    }
   ],
   "source": [
    "tweets"
   ]
  },
  {
   "cell_type": "code",
   "execution_count": 106,
   "id": "639ab338",
   "metadata": {},
   "outputs": [],
   "source": [
    "df = pd.DataFrame({\"tweets\": tweets, \"likes\": likes, \"time\":time })"
   ]
  },
  {
   "cell_type": "code",
   "execution_count": 107,
   "id": "1f646feb",
   "metadata": {},
   "outputs": [
    {
     "data": {
      "text/html": [
       "<div>\n",
       "<style scoped>\n",
       "    .dataframe tbody tr th:only-of-type {\n",
       "        vertical-align: middle;\n",
       "    }\n",
       "\n",
       "    .dataframe tbody tr th {\n",
       "        vertical-align: top;\n",
       "    }\n",
       "\n",
       "    .dataframe thead th {\n",
       "        text-align: right;\n",
       "    }\n",
       "</style>\n",
       "<table border=\"1\" class=\"dataframe\">\n",
       "  <thead>\n",
       "    <tr style=\"text-align: right;\">\n",
       "      <th></th>\n",
       "      <th>tweets</th>\n",
       "      <th>likes</th>\n",
       "      <th>time</th>\n",
       "    </tr>\n",
       "  </thead>\n",
       "  <tbody>\n",
       "    <tr>\n",
       "      <th>0</th>\n",
       "      <td>Today @POTUS announced that the U.S. will be w...</td>\n",
       "      <td>13217</td>\n",
       "      <td>2022-03-24 20:00:48+00:00</td>\n",
       "    </tr>\n",
       "    <tr>\n",
       "      <th>1</th>\n",
       "      <td>As the first woman to serve as America’s top d...</td>\n",
       "      <td>26937</td>\n",
       "      <td>2022-03-23 20:30:46+00:00</td>\n",
       "    </tr>\n",
       "    <tr>\n",
       "      <th>2</th>\n",
       "      <td>The other day, I called up DonnaMarie, Steve, ...</td>\n",
       "      <td>11257</td>\n",
       "      <td>2022-03-23 19:45:16+00:00</td>\n",
       "    </tr>\n",
       "    <tr>\n",
       "      <th>3</th>\n",
       "      <td>RT @POTUS: Twelve years ago, I proudly stood b...</td>\n",
       "      <td>0</td>\n",
       "      <td>2022-03-23 17:52:33+00:00</td>\n",
       "    </tr>\n",
       "    <tr>\n",
       "      <th>4</th>\n",
       "      <td>.@POTUS’s American Rescue Plan helped strength...</td>\n",
       "      <td>8091</td>\n",
       "      <td>2022-03-23 16:00:50+00:00</td>\n",
       "    </tr>\n",
       "    <tr>\n",
       "      <th>5</th>\n",
       "      <td>During the pandemic, the Affordable Care Act h...</td>\n",
       "      <td>6006</td>\n",
       "      <td>2022-03-23 16:00:50+00:00</td>\n",
       "    </tr>\n",
       "    <tr>\n",
       "      <th>6</th>\n",
       "      <td>12 years ago today, I signed the Affordable Ca...</td>\n",
       "      <td>38349</td>\n",
       "      <td>2022-03-23 16:00:49+00:00</td>\n",
       "    </tr>\n",
       "    <tr>\n",
       "      <th>7</th>\n",
       "      <td>It’s been a great year for college basketball,...</td>\n",
       "      <td>6095</td>\n",
       "      <td>2022-03-16 20:00:27+00:00</td>\n",
       "    </tr>\n",
       "    <tr>\n",
       "      <th>8</th>\n",
       "      <td>And third, a reminder that in the face of brut...</td>\n",
       "      <td>11417</td>\n",
       "      <td>2022-03-16 19:30:36+00:00</td>\n",
       "    </tr>\n",
       "    <tr>\n",
       "      <th>9</th>\n",
       "      <td>Second, a useful primer on why no-fly zones do...</td>\n",
       "      <td>7550</td>\n",
       "      <td>2022-03-16 19:30:36+00:00</td>\n",
       "    </tr>\n",
       "  </tbody>\n",
       "</table>\n",
       "</div>"
      ],
      "text/plain": [
       "                                              tweets  likes  \\\n",
       "0  Today @POTUS announced that the U.S. will be w...  13217   \n",
       "1  As the first woman to serve as America’s top d...  26937   \n",
       "2  The other day, I called up DonnaMarie, Steve, ...  11257   \n",
       "3  RT @POTUS: Twelve years ago, I proudly stood b...      0   \n",
       "4  .@POTUS’s American Rescue Plan helped strength...   8091   \n",
       "5  During the pandemic, the Affordable Care Act h...   6006   \n",
       "6  12 years ago today, I signed the Affordable Ca...  38349   \n",
       "7  It’s been a great year for college basketball,...   6095   \n",
       "8  And third, a reminder that in the face of brut...  11417   \n",
       "9  Second, a useful primer on why no-fly zones do...   7550   \n",
       "\n",
       "                       time  \n",
       "0 2022-03-24 20:00:48+00:00  \n",
       "1 2022-03-23 20:30:46+00:00  \n",
       "2 2022-03-23 19:45:16+00:00  \n",
       "3 2022-03-23 17:52:33+00:00  \n",
       "4 2022-03-23 16:00:50+00:00  \n",
       "5 2022-03-23 16:00:50+00:00  \n",
       "6 2022-03-23 16:00:49+00:00  \n",
       "7 2022-03-16 20:00:27+00:00  \n",
       "8 2022-03-16 19:30:36+00:00  \n",
       "9 2022-03-16 19:30:36+00:00  "
      ]
     },
     "execution_count": 107,
     "metadata": {},
     "output_type": "execute_result"
    }
   ],
   "source": [
    "df"
   ]
  },
  {
   "cell_type": "code",
   "execution_count": 108,
   "id": "3c0e0aae",
   "metadata": {},
   "outputs": [],
   "source": [
    "#deleting retweet\n",
    "df = df[~df.tweets.str.contains(\"RT\")]\n",
    "#resetting index\n",
    "df=df.reset_index(drop=True)"
   ]
  },
  {
   "cell_type": "code",
   "execution_count": 109,
   "id": "8ef465f6",
   "metadata": {},
   "outputs": [
    {
     "data": {
      "text/html": [
       "<div>\n",
       "<style scoped>\n",
       "    .dataframe tbody tr th:only-of-type {\n",
       "        vertical-align: middle;\n",
       "    }\n",
       "\n",
       "    .dataframe tbody tr th {\n",
       "        vertical-align: top;\n",
       "    }\n",
       "\n",
       "    .dataframe thead th {\n",
       "        text-align: right;\n",
       "    }\n",
       "</style>\n",
       "<table border=\"1\" class=\"dataframe\">\n",
       "  <thead>\n",
       "    <tr style=\"text-align: right;\">\n",
       "      <th></th>\n",
       "      <th>tweets</th>\n",
       "      <th>likes</th>\n",
       "      <th>time</th>\n",
       "    </tr>\n",
       "  </thead>\n",
       "  <tbody>\n",
       "    <tr>\n",
       "      <th>0</th>\n",
       "      <td>Today @POTUS announced that the U.S. will be w...</td>\n",
       "      <td>13217</td>\n",
       "      <td>2022-03-24 20:00:48+00:00</td>\n",
       "    </tr>\n",
       "    <tr>\n",
       "      <th>1</th>\n",
       "      <td>As the first woman to serve as America’s top d...</td>\n",
       "      <td>26937</td>\n",
       "      <td>2022-03-23 20:30:46+00:00</td>\n",
       "    </tr>\n",
       "    <tr>\n",
       "      <th>2</th>\n",
       "      <td>The other day, I called up DonnaMarie, Steve, ...</td>\n",
       "      <td>11257</td>\n",
       "      <td>2022-03-23 19:45:16+00:00</td>\n",
       "    </tr>\n",
       "    <tr>\n",
       "      <th>3</th>\n",
       "      <td>.@POTUS’s American Rescue Plan helped strength...</td>\n",
       "      <td>8091</td>\n",
       "      <td>2022-03-23 16:00:50+00:00</td>\n",
       "    </tr>\n",
       "    <tr>\n",
       "      <th>4</th>\n",
       "      <td>During the pandemic, the Affordable Care Act h...</td>\n",
       "      <td>6006</td>\n",
       "      <td>2022-03-23 16:00:50+00:00</td>\n",
       "    </tr>\n",
       "    <tr>\n",
       "      <th>5</th>\n",
       "      <td>12 years ago today, I signed the Affordable Ca...</td>\n",
       "      <td>38349</td>\n",
       "      <td>2022-03-23 16:00:49+00:00</td>\n",
       "    </tr>\n",
       "    <tr>\n",
       "      <th>6</th>\n",
       "      <td>It’s been a great year for college basketball,...</td>\n",
       "      <td>6095</td>\n",
       "      <td>2022-03-16 20:00:27+00:00</td>\n",
       "    </tr>\n",
       "    <tr>\n",
       "      <th>7</th>\n",
       "      <td>And third, a reminder that in the face of brut...</td>\n",
       "      <td>11417</td>\n",
       "      <td>2022-03-16 19:30:36+00:00</td>\n",
       "    </tr>\n",
       "    <tr>\n",
       "      <th>8</th>\n",
       "      <td>Second, a useful primer on why no-fly zones do...</td>\n",
       "      <td>7550</td>\n",
       "      <td>2022-03-16 19:30:36+00:00</td>\n",
       "    </tr>\n",
       "  </tbody>\n",
       "</table>\n",
       "</div>"
      ],
      "text/plain": [
       "                                              tweets  likes  \\\n",
       "0  Today @POTUS announced that the U.S. will be w...  13217   \n",
       "1  As the first woman to serve as America’s top d...  26937   \n",
       "2  The other day, I called up DonnaMarie, Steve, ...  11257   \n",
       "3  .@POTUS’s American Rescue Plan helped strength...   8091   \n",
       "4  During the pandemic, the Affordable Care Act h...   6006   \n",
       "5  12 years ago today, I signed the Affordable Ca...  38349   \n",
       "6  It’s been a great year for college basketball,...   6095   \n",
       "7  And third, a reminder that in the face of brut...  11417   \n",
       "8  Second, a useful primer on why no-fly zones do...   7550   \n",
       "\n",
       "                       time  \n",
       "0 2022-03-24 20:00:48+00:00  \n",
       "1 2022-03-23 20:30:46+00:00  \n",
       "2 2022-03-23 19:45:16+00:00  \n",
       "3 2022-03-23 16:00:50+00:00  \n",
       "4 2022-03-23 16:00:50+00:00  \n",
       "5 2022-03-23 16:00:49+00:00  \n",
       "6 2022-03-16 20:00:27+00:00  \n",
       "7 2022-03-16 19:30:36+00:00  \n",
       "8 2022-03-16 19:30:36+00:00  "
      ]
     },
     "execution_count": 109,
     "metadata": {},
     "output_type": "execute_result"
    }
   ],
   "source": [
    "df"
   ]
  },
  {
   "cell_type": "code",
   "execution_count": 110,
   "id": "f571b86f",
   "metadata": {},
   "outputs": [],
   "source": [
    "mostlike=df.loc[df.likes.nlargest(5).index]"
   ]
  },
  {
   "cell_type": "code",
   "execution_count": 111,
   "id": "41e3afc9",
   "metadata": {},
   "outputs": [
    {
     "data": {
      "text/html": [
       "<div>\n",
       "<style scoped>\n",
       "    .dataframe tbody tr th:only-of-type {\n",
       "        vertical-align: middle;\n",
       "    }\n",
       "\n",
       "    .dataframe tbody tr th {\n",
       "        vertical-align: top;\n",
       "    }\n",
       "\n",
       "    .dataframe thead th {\n",
       "        text-align: right;\n",
       "    }\n",
       "</style>\n",
       "<table border=\"1\" class=\"dataframe\">\n",
       "  <thead>\n",
       "    <tr style=\"text-align: right;\">\n",
       "      <th></th>\n",
       "      <th>tweets</th>\n",
       "      <th>likes</th>\n",
       "      <th>time</th>\n",
       "    </tr>\n",
       "  </thead>\n",
       "  <tbody>\n",
       "    <tr>\n",
       "      <th>5</th>\n",
       "      <td>12 years ago today, I signed the Affordable Ca...</td>\n",
       "      <td>38349</td>\n",
       "      <td>2022-03-23 16:00:49+00:00</td>\n",
       "    </tr>\n",
       "    <tr>\n",
       "      <th>1</th>\n",
       "      <td>As the first woman to serve as America’s top d...</td>\n",
       "      <td>26937</td>\n",
       "      <td>2022-03-23 20:30:46+00:00</td>\n",
       "    </tr>\n",
       "    <tr>\n",
       "      <th>0</th>\n",
       "      <td>Today @POTUS announced that the U.S. will be w...</td>\n",
       "      <td>13217</td>\n",
       "      <td>2022-03-24 20:00:48+00:00</td>\n",
       "    </tr>\n",
       "    <tr>\n",
       "      <th>7</th>\n",
       "      <td>And third, a reminder that in the face of brut...</td>\n",
       "      <td>11417</td>\n",
       "      <td>2022-03-16 19:30:36+00:00</td>\n",
       "    </tr>\n",
       "    <tr>\n",
       "      <th>2</th>\n",
       "      <td>The other day, I called up DonnaMarie, Steve, ...</td>\n",
       "      <td>11257</td>\n",
       "      <td>2022-03-23 19:45:16+00:00</td>\n",
       "    </tr>\n",
       "  </tbody>\n",
       "</table>\n",
       "</div>"
      ],
      "text/plain": [
       "                                              tweets  likes  \\\n",
       "5  12 years ago today, I signed the Affordable Ca...  38349   \n",
       "1  As the first woman to serve as America’s top d...  26937   \n",
       "0  Today @POTUS announced that the U.S. will be w...  13217   \n",
       "7  And third, a reminder that in the face of brut...  11417   \n",
       "2  The other day, I called up DonnaMarie, Steve, ...  11257   \n",
       "\n",
       "                       time  \n",
       "5 2022-03-23 16:00:49+00:00  \n",
       "1 2022-03-23 20:30:46+00:00  \n",
       "0 2022-03-24 20:00:48+00:00  \n",
       "7 2022-03-16 19:30:36+00:00  \n",
       "2 2022-03-23 19:45:16+00:00  "
      ]
     },
     "execution_count": 111,
     "metadata": {},
     "output_type": "execute_result"
    }
   ],
   "source": [
    "mostlike"
   ]
  },
  {
   "cell_type": "markdown",
   "id": "136a98b9",
   "metadata": {},
   "source": [
    "## Get Tweet with #StandwithUkraine"
   ]
  },
  {
   "cell_type": "code",
   "execution_count": 127,
   "id": "c56ada3e",
   "metadata": {},
   "outputs": [],
   "source": [
    "cursor = tweepy.Cursor(api.search_tweets, q=\"#StandWithUkraine\", since=\"2022-03-25\", tweet_mode=\"extended\").items(1)"
   ]
  },
  {
   "cell_type": "code",
   "execution_count": 128,
   "id": "1f850baa",
   "metadata": {},
   "outputs": [
    {
     "name": "stderr",
     "output_type": "stream",
     "text": [
      "Unexpected parameter: since\n"
     ]
    },
    {
     "name": "stdout",
     "output_type": "stream",
     "text": [
      "@POTUS @JoeBiden #Palestinian men and women support the #Ukrainian People fighting for #Ukraine's territorial integrity. The #Ukrainian and #Palestinian People are fighting the same #fight.\n",
      "https://t.co/RCmQab1ixZ\n",
      "#FreeUkraine #WeAreAllUkrainians #StandWithUkraine #StopTheWar #StandTogether #EU\n"
     ]
    }
   ],
   "source": [
    "for i in cursor:\n",
    "    print(i.full_text)"
   ]
  },
  {
   "cell_type": "code",
   "execution_count": 141,
   "id": "b724d066",
   "metadata": {},
   "outputs": [],
   "source": [
    "number_of_tweets = 10\n",
    "tweets =[]\n",
    "likes= []\n",
    "time=[]\n",
    "    "
   ]
  },
  {
   "cell_type": "code",
   "execution_count": 142,
   "id": "c7e7d498",
   "metadata": {},
   "outputs": [
    {
     "name": "stderr",
     "output_type": "stream",
     "text": [
      "Unexpected parameter: since\n",
      "Unexpected parameter: since\n"
     ]
    }
   ],
   "source": [
    "for i in tweepy.Cursor(api.search_tweets, q=\"#StandWihUkraine\", tweet_mode=\"extended\", since=\"2022-03-25\").items(number_of_tweets):\n",
    "     tweets.append(i.full_text)\n",
    "     likes.append(i.favorite_count)\n",
    "     time.append(i.created_at)"
   ]
  },
  {
   "cell_type": "code",
   "execution_count": 143,
   "id": "f394f497",
   "metadata": {},
   "outputs": [
    {
     "data": {
      "text/plain": [
       "['Sadiq Khan: \"People of British capital stand shoulder to shoulder with Ukraine in its darkest hour\": https://t.co/YdhHYFjNRW\\n#StopPutin #SaveUkraine #SaveTheWorld #StandwihUkraine',\n",
       " \"Will the mourning broadcast of the ballet about Prince Siegfried's victory over the evil sorcerer be considered anti-Russian propaganda and discreditation the Russian army? #StopRussia #StopRussianAggression #StopPutin #SaveUkraine #SaveTheWorld #StandwihUkraine\",\n",
       " \"It seems that because of Putin's war against Ukraine, the CSTO and EAEU projects are no longer alive. #StopRussia #StopRussianAggression #StopPutin #SaveUkraine #SaveTheWorld #StandwihUkraine\",\n",
       " \"The war, which began as a struggle to destroy the rebellious Ukraine, is increasingly turning into Putin's struggle for his own survival. But in the pack of wolves Akela who failed has no chance to survive. #StopRussianAggression #StopPutin #SaveTheWorld #StandwihUkraine\",\n",
       " 'It will be no parade on May 9 this year in Russia. Because any slogans against fascism  today are recognized in Russia as anti-Russian propaganda and an insult to the Russian army. #StopRussia #StopRussianAggression #StopPutin #SaveUkraine #SaveTheWorld #StandwihUkraine']"
      ]
     },
     "execution_count": 143,
     "metadata": {},
     "output_type": "execute_result"
    }
   ],
   "source": [
    "tweets"
   ]
  },
  {
   "cell_type": "code",
   "execution_count": 144,
   "id": "b0a0e5bd",
   "metadata": {},
   "outputs": [],
   "source": [
    "df = pd.DataFrame({\"tweets\": tweets, \"likes\": likes, \"time\":time })"
   ]
  },
  {
   "cell_type": "code",
   "execution_count": 145,
   "id": "f9502ff8",
   "metadata": {},
   "outputs": [
    {
     "data": {
      "text/html": [
       "<div>\n",
       "<style scoped>\n",
       "    .dataframe tbody tr th:only-of-type {\n",
       "        vertical-align: middle;\n",
       "    }\n",
       "\n",
       "    .dataframe tbody tr th {\n",
       "        vertical-align: top;\n",
       "    }\n",
       "\n",
       "    .dataframe thead th {\n",
       "        text-align: right;\n",
       "    }\n",
       "</style>\n",
       "<table border=\"1\" class=\"dataframe\">\n",
       "  <thead>\n",
       "    <tr style=\"text-align: right;\">\n",
       "      <th></th>\n",
       "      <th>tweets</th>\n",
       "      <th>likes</th>\n",
       "      <th>time</th>\n",
       "    </tr>\n",
       "  </thead>\n",
       "  <tbody>\n",
       "    <tr>\n",
       "      <th>0</th>\n",
       "      <td>Sadiq Khan: \"People of British capital stand s...</td>\n",
       "      <td>0</td>\n",
       "      <td>2022-03-27 03:51:22+00:00</td>\n",
       "    </tr>\n",
       "    <tr>\n",
       "      <th>1</th>\n",
       "      <td>Will the mourning broadcast of the ballet abou...</td>\n",
       "      <td>0</td>\n",
       "      <td>2022-03-25 19:36:58+00:00</td>\n",
       "    </tr>\n",
       "    <tr>\n",
       "      <th>2</th>\n",
       "      <td>It seems that because of Putin's war against U...</td>\n",
       "      <td>0</td>\n",
       "      <td>2022-03-25 16:57:02+00:00</td>\n",
       "    </tr>\n",
       "    <tr>\n",
       "      <th>3</th>\n",
       "      <td>The war, which began as a struggle to destroy ...</td>\n",
       "      <td>0</td>\n",
       "      <td>2022-03-25 06:25:53+00:00</td>\n",
       "    </tr>\n",
       "    <tr>\n",
       "      <th>4</th>\n",
       "      <td>It will be no parade on May 9 this year in Rus...</td>\n",
       "      <td>0</td>\n",
       "      <td>2022-03-25 05:53:23+00:00</td>\n",
       "    </tr>\n",
       "  </tbody>\n",
       "</table>\n",
       "</div>"
      ],
      "text/plain": [
       "                                              tweets  likes  \\\n",
       "0  Sadiq Khan: \"People of British capital stand s...      0   \n",
       "1  Will the mourning broadcast of the ballet abou...      0   \n",
       "2  It seems that because of Putin's war against U...      0   \n",
       "3  The war, which began as a struggle to destroy ...      0   \n",
       "4  It will be no parade on May 9 this year in Rus...      0   \n",
       "\n",
       "                       time  \n",
       "0 2022-03-27 03:51:22+00:00  \n",
       "1 2022-03-25 19:36:58+00:00  \n",
       "2 2022-03-25 16:57:02+00:00  \n",
       "3 2022-03-25 06:25:53+00:00  \n",
       "4 2022-03-25 05:53:23+00:00  "
      ]
     },
     "execution_count": 145,
     "metadata": {},
     "output_type": "execute_result"
    }
   ],
   "source": [
    "df"
   ]
  },
  {
   "cell_type": "code",
   "execution_count": 82,
   "id": "94a2158d",
   "metadata": {},
   "outputs": [],
   "source": []
  },
  {
   "cell_type": "code",
   "execution_count": 84,
   "id": "6a758acc",
   "metadata": {},
   "outputs": [],
   "source": []
  },
  {
   "cell_type": "code",
   "execution_count": 85,
   "id": "536f6a88",
   "metadata": {},
   "outputs": [],
   "source": []
  },
  {
   "cell_type": "code",
   "execution_count": 57,
   "id": "59699c27",
   "metadata": {},
   "outputs": [],
   "source": [
    "#!pip install spacy"
   ]
  },
  {
   "cell_type": "markdown",
   "id": "2b52c303",
   "metadata": {},
   "source": [
    "<!-- import matplotlib.pyplot as plt\n",
    "import re\n",
    "import spacy\n",
    "import seaborn as sns -->"
   ]
  },
  {
   "cell_type": "code",
   "execution_count": 58,
   "id": "b60d3b58",
   "metadata": {},
   "outputs": [],
   "source": [
    "# !python -m spacy download en_core_web_lg\n"
   ]
  },
  {
   "cell_type": "code",
   "execution_count": 118,
   "id": "14e400da",
   "metadata": {},
   "outputs": [],
   "source": [
    "# nlp=spacy.load(\"en_core_web_lg\")"
   ]
  },
  {
   "cell_type": "code",
   "execution_count": null,
   "id": "254a14de",
   "metadata": {},
   "outputs": [],
   "source": []
  }
 ],
 "metadata": {
  "kernelspec": {
   "display_name": "Python 3 (ipykernel)",
   "language": "python",
   "name": "python3"
  },
  "language_info": {
   "codemirror_mode": {
    "name": "ipython",
    "version": 3
   },
   "file_extension": ".py",
   "mimetype": "text/x-python",
   "name": "python",
   "nbconvert_exporter": "python",
   "pygments_lexer": "ipython3",
   "version": "3.9.7"
  }
 },
 "nbformat": 4,
 "nbformat_minor": 5
}
